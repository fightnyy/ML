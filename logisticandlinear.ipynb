{
 "cells": [
  {
   "cell_type": "code",
   "execution_count": 1,
   "metadata": {},
   "outputs": [],
   "source": [
    "from sklearn.model_selection import train_test_split\n",
    "import numpy as np\n",
    "import pandas as pd\n",
    "import matplotlib.pyplot as plt\n",
    "import seaborn as sns\n",
    "from sklearn.linear_model import LinearRegression\n",
    "from sklearn.linear_model import LogisticRegression\n",
    "from sklearn.linear_model import Lasso\n",
    "import statsmodels.api as sm"
   ]
  },
  {
   "cell_type": "markdown",
   "metadata": {},
   "source": [
    "## Logistic regrssion 용 데이터"
   ]
  },
  {
   "cell_type": "code",
   "execution_count": 2,
   "metadata": {},
   "outputs": [],
   "source": [
    "#  해당 코드는 수정하지 마세요\n",
    "from sklearn.datasets import make_classification\n",
    "\n",
    "\n",
    "X, y = make_classification(n_features=8, n_informative=5,\n",
    "                           n_redundant=3, n_clusters_per_class=1, random_state=4, n_samples =1000 )"
   ]
  },
  {
   "cell_type": "code",
   "execution_count": 3,
   "metadata": {},
   "outputs": [],
   "source": [
    "x_train, x_test, y_train, y_test = train_test_split(X, y, test_size = 0.1)"
   ]
  },
  {
   "cell_type": "markdown",
   "metadata": {},
   "source": [
    "* ### y와의 상관관계정도\n",
    "차례대로 0번째 특성, ......., 7번째 특성"
   ]
  },
  {
   "cell_type": "code",
   "execution_count": 4,
   "metadata": {},
   "outputs": [
    {
     "name": "stdout",
     "output_type": "stream",
     "text": [
      "['0.033', '-0.593', '0.613', '0.025', '0.049', '0.703', '0.648', '0.591']\n"
     ]
    }
   ],
   "source": [
    "d=[]\n",
    "for i in range(8):  #특성이 8개여서 0부터 7까지 for 함수를 돌렸음\n",
    "    a=x_train[:,i]  #이 과정은 슬라이싱 과정 즉 각 특징이 y값과 얼마나 상관관계가 있는지 알기 위하여 측정\n",
    "    c=np.corrcoef(a,y_train)#상관관계값 c에 넣음\n",
    "    k=c[0,1]#이때 c는 2x2 행렬이 나온다. diag는 각자 자신과 자신의 상관관계를 나타내기 때문에 1이 나온다. 따라서 1,0 또는 0,1의 값이 y값과 특징의 상관관계를 측정한 값이다.\n",
    "    d.append(format(k,'.3f'))#각 상관관계값을 빈 리스트 d에 넣는다.\n",
    "print(d)"
   ]
  },
  {
   "cell_type": "markdown",
   "metadata": {},
   "source": [
    "correlation coefficient 가 높은 5개의 feature 특성이 __5번째,6번째,2번째,7번째,1번째__ 순인것을 알 수 있다."
   ]
  },
  {
   "cell_type": "code",
   "execution_count": 6,
   "metadata": {},
   "outputs": [],
   "source": [
    "#5th feature     상관관계 : 1순위\n",
    "#6th feature   상관관계 : 2순위\n",
    "#2th feature   상관관계 : 3순위\n",
    "#7th feature   상관관계 : 4순위\n",
    "#1th feature  상관관계 : 5순위\n",
    "index=['5th_f','6th_f','2nd_f','7th_f','1st_f'] # index와 cols 을 사용하기 위하여 이렇게 넣었고 순서는 상관관계 순이다.\n",
    "cols=index"
   ]
  },
  {
   "cell_type": "code",
   "execution_count": 7,
   "metadata": {},
   "outputs": [
    {
     "data": {
      "text/plain": [
       "<matplotlib.axes._subplots.AxesSubplot at 0x123fae4d0>"
      ]
     },
     "execution_count": 7,
     "metadata": {},
     "output_type": "execute_result"
    },
    {
     "data": {
      "image/png": "[encoded data removed]",
      "text/plain": [
       "<Figure size 432x288 with 2 Axes>"
      ]
     },
     "metadata": {
      "needs_background": "light"
     },
     "output_type": "display_data"
    }
   ],
   "source": [
    "q=[[],[],[],[],[]]#히트맵을 그릴때 필요한 행렬이다.\n",
    "k=0 #q에 집어넣을 때 사용할 인덱스 변수\n",
    "for i in [5,6,2,7,1]:\n",
    "    for j in [5,6,2,7,1]:\n",
    "        corrMed=(np.corrcoef(x_train[:,i],x_train[:,j])[0,1])#상관관계 값 측정\n",
    "        q[k].append(corrMed)# q에 넣기\n",
    "    k=k+1\n",
    "df=pd.DataFrame(q,index=index,columns=cols)#히트맵으로 만들기 위해 dataframe 형식으로 저장한다.\n",
    "sns.heatmap(df,annot=True)#히트맵 생성"
   ]
  },
  {
   "cell_type": "markdown",
   "metadata": {},
   "source": [
    "## 1B"
   ]
  },
  {
   "cell_type": "markdown",
   "metadata": {},
   "source": [
    "2가지 방면으로 측정해 보았다 하나는 로지스틱을 내가 직접 select하지 않고 penalty로 l1을 주어 알고리즘이 직접 특징을 지우는 것이고 다른 하나는 내가 직접 select하여 정확도를 측정하는 것이다."
   ]
  },
  {
   "cell_type": "code",
   "execution_count": 8,
   "metadata": {},
   "outputs": [
    {
     "name": "stdout",
     "output_type": "stream",
     "text": [
      "[[ 0.        ]\n",
      " [-0.0553155 ]\n",
      " [ 0.42403543]\n",
      " [ 0.        ]\n",
      " [ 0.        ]\n",
      " [ 0.76948153]\n",
      " [ 0.36025893]\n",
      " [ 0.        ]]\n",
      "테스트 정확도0.91\n"
     ]
    }
   ],
   "source": [
    "logr=LogisticRegression(C=0.01,penalty='l1',solver='liblinear').fit(x_train,y_train)\n",
    "print(logr.coef_.T)\n",
    "acc=logr.score(x_test,y_test)\n",
    "print(\"테스트 정확도{:.2f}\".format(acc))"
   ]
  },
  {
   "cell_type": "markdown",
   "metadata": {},
   "source": [
    "correlation coefficient array를 바탕으로 multiple logistic regression 모델에서 사용할 feature를 5번 6번 2번 특징들로 정하고  test acc을 측정해보겠다."
   ]
  },
  {
   "cell_type": "code",
   "execution_count": 9,
   "metadata": {},
   "outputs": [
    {
     "name": "stdout",
     "output_type": "stream",
     "text": [
      "테스트정확도: 0.95\n"
     ]
    }
   ],
   "source": [
    "x_compare=(np.hstack((x_train[:,5:6],x_train[:,6:7],x_train[:,2:3])))\n",
    "logr=LogisticRegression().fit(x_train,y_train)\n",
    "acc=logr.score(x_test,y_test)\n",
    "print(\"테스트정확도:\",acc)"
   ]
  },
  {
   "cell_type": "markdown",
   "metadata": {},
   "source": [
    " ## 2번 문제 시작"
   ]
  },
  {
   "cell_type": "markdown",
   "metadata": {},
   "source": [
    "## Linear Regression 용 데이터"
   ]
  },
  {
   "cell_type": "code",
   "execution_count": 10,
   "metadata": {},
   "outputs": [
    {
     "name": "stdout",
     "output_type": "stream",
     "text": [
      ".. _california_housing_dataset:\n",
      "\n",
      "California Housing dataset\n",
      "--------------------------\n",
      "\n",
      "**Data Set Characteristics:**\n",
      "\n",
      "    :Number of Instances: 20640\n",
      "\n",
      "    :Number of Attributes: 8 numeric, predictive attributes and the target\n",
      "\n",
      "    :Attribute Information:\n",
      "        - MedInc        median income in block\n",
      "        - HouseAge      median house age in block\n",
      "        - AveRooms      average number of rooms\n",
      "        - AveBedrms     average number of bedrooms\n",
      "        - Population    block population\n",
      "        - AveOccup      average house occupancy\n",
      "        - Latitude      house block latitude\n",
      "        - Longitude     house block longitude\n",
      "\n",
      "    :Missing Attribute Values: None\n",
      "\n",
      "This dataset was obtained from the StatLib repository.\n",
      "http://lib.stat.cmu.edu/datasets/\n",
      "\n",
      "The target variable is the median house value for California districts.\n",
      "\n",
      "This dataset was derived from the 1990 U.S. census, using one row per census\n",
      "block group. A block group is the smallest geographical unit for which the U.S.\n",
      "Census Bureau publishes sample data (a block group typically has a population\n",
      "of 600 to 3,000 people).\n",
      "\n",
      "It can be downloaded/loaded using the\n",
      ":func:`sklearn.datasets.fetch_california_housing` function.\n",
      "\n",
      ".. topic:: References\n",
      "\n",
      "    - Pace, R. Kelley and Ronald Barry, Sparse Spatial Autoregressions,\n",
      "      Statistics and Probability Letters, 33 (1997) 291-297\n",
      "\n"
     ]
    }
   ],
   "source": [
    "from sklearn.datasets import fetch_california_housing\n",
    "california = fetch_california_housing()\n",
    "print(california.DESCR)\n",
    "X_train,X_test,y_train,y_test=train_test_split(california.data,california.target,random_state=0)"
   ]
  },
  {
   "cell_type": "code",
   "execution_count": 11,
   "metadata": {},
   "outputs": [
    {
     "data": {
      "text/html": [
       "<div>\n",
       "<style scoped>\n",
       "    .dataframe tbody tr th:only-of-type {\n",
       "        vertical-align: middle;\n",
       "    }\n",
       "\n",
       "    .dataframe tbody tr th {\n",
       "        vertical-align: top;\n",
       "    }\n",
       "\n",
       "    .dataframe thead th {\n",
       "        text-align: right;\n",
       "    }\n",
       "</style>\n",
       "<table border=\"1\" class=\"dataframe\">\n",
       "  <thead>\n",
       "    <tr style=\"text-align: right;\">\n",
       "      <th></th>\n",
       "      <th>MedInc</th>\n",
       "      <th>HouseAge</th>\n",
       "      <th>AveRooms</th>\n",
       "      <th>AveBedrms</th>\n",
       "      <th>Population</th>\n",
       "      <th>AveOccup</th>\n",
       "      <th>Latitude</th>\n",
       "      <th>Longitude</th>\n",
       "    </tr>\n",
       "  </thead>\n",
       "  <tbody>\n",
       "    <tr>\n",
       "      <th>0</th>\n",
       "      <td>8.3252</td>\n",
       "      <td>41.0</td>\n",
       "      <td>6.984127</td>\n",
       "      <td>1.023810</td>\n",
       "      <td>322.0</td>\n",
       "      <td>2.555556</td>\n",
       "      <td>37.88</td>\n",
       "      <td>-122.23</td>\n",
       "    </tr>\n",
       "    <tr>\n",
       "      <th>1</th>\n",
       "      <td>8.3014</td>\n",
       "      <td>21.0</td>\n",
       "      <td>6.238137</td>\n",
       "      <td>0.971880</td>\n",
       "      <td>2401.0</td>\n",
       "      <td>2.109842</td>\n",
       "      <td>37.86</td>\n",
       "      <td>-122.22</td>\n",
       "    </tr>\n",
       "    <tr>\n",
       "      <th>2</th>\n",
       "      <td>7.2574</td>\n",
       "      <td>52.0</td>\n",
       "      <td>8.288136</td>\n",
       "      <td>1.073446</td>\n",
       "      <td>496.0</td>\n",
       "      <td>2.802260</td>\n",
       "      <td>37.85</td>\n",
       "      <td>-122.24</td>\n",
       "    </tr>\n",
       "    <tr>\n",
       "      <th>3</th>\n",
       "      <td>5.6431</td>\n",
       "      <td>52.0</td>\n",
       "      <td>5.817352</td>\n",
       "      <td>1.073059</td>\n",
       "      <td>558.0</td>\n",
       "      <td>2.547945</td>\n",
       "      <td>37.85</td>\n",
       "      <td>-122.25</td>\n",
       "    </tr>\n",
       "    <tr>\n",
       "      <th>4</th>\n",
       "      <td>3.8462</td>\n",
       "      <td>52.0</td>\n",
       "      <td>6.281853</td>\n",
       "      <td>1.081081</td>\n",
       "      <td>565.0</td>\n",
       "      <td>2.181467</td>\n",
       "      <td>37.85</td>\n",
       "      <td>-122.25</td>\n",
       "    </tr>\n",
       "  </tbody>\n",
       "</table>\n",
       "</div>"
      ],
      "text/plain": [
       "   MedInc  HouseAge  AveRooms  AveBedrms  Population  AveOccup  Latitude  \\\n",
       "0  8.3252      41.0  6.984127   1.023810       322.0  2.555556     37.88   \n",
       "1  8.3014      21.0  6.238137   0.971880      2401.0  2.109842     37.86   \n",
       "2  7.2574      52.0  8.288136   1.073446       496.0  2.802260     37.85   \n",
       "3  5.6431      52.0  5.817352   1.073059       558.0  2.547945     37.85   \n",
       "4  3.8462      52.0  6.281853   1.081081       565.0  2.181467     37.85   \n",
       "\n",
       "   Longitude  \n",
       "0    -122.23  \n",
       "1    -122.22  \n",
       "2    -122.24  \n",
       "3    -122.25  \n",
       "4    -122.25  "
      ]
     },
     "execution_count": 11,
     "metadata": {},
     "output_type": "execute_result"
    }
   ],
   "source": [
    "cal = pd.DataFrame(california.data, columns = california.feature_names) #forward_selection 함수에 값을 넣기 위하여 cal을 DataFrame으로 변환한다.\n",
    "california['Price'] = california.target#캘리포니아 집값을 예측하는 것이니 target을 price 에다가 넣었다.\n",
    "X = cal      \n",
    "y = california['Price']            \n",
    "cal.head()"
   ]
  },
  {
   "cell_type": "code",
   "execution_count": 12,
   "metadata": {},
   "outputs": [],
   "source": [
    "def forward_selection(data, target, significance_level=0.05): #forward_selection 을 진행하기 위하여 아래와 같은 과정을 진행했다.\n",
    "    initial_features = data.columns.tolist() # 특성들을 initial_feature에 넣어주었다.\n",
    "    best_features = [] #가장 상관관계가 명확한 특징을 알기 위해 이와 같은 list 를 선언 하였다.\n",
    "    remaining_features = list(set(initial_features)-set(best_features))#남아있는 특징 길이 계산\n",
    "    while (len(remaining_features)>0):# 모든 feature 를 비교하기 위해 remaining_feature 길이 값을 기준으로 while함수를 진행하였다.\n",
    "        remaining_features = list(set(initial_features)-set(best_features))#남아있는 특징 길이 계산\n",
    "        new_pval = pd.Series(index=remaining_features)\n",
    "        for new_column in remaining_features:\n",
    "            model = sm.OLS(target, sm.add_constant(data[best_features+[new_column]])).fit()\n",
    "            new_pval[new_column] = model.pvalues[new_column]\n",
    "        min_p_value = new_pval.min()\n",
    "        if(min_p_value<significance_level):\n",
    "            best_features.append(new_pval.idxmin())\n",
    "        else:\n",
    "            break\n",
    "            \n",
    "    if len(best_features)>4 : #4개까지 선택하라고 하였으므로 아래와 같은 과정을 진행하였다.\n",
    "        best_features=best_features[0:4]\n",
    "    return best_features"
   ]
  },
  {
   "cell_type": "code",
   "execution_count": 13,
   "metadata": {
    "scrolled": true
   },
   "outputs": [
    {
     "name": "stderr",
     "output_type": "stream",
     "text": [
      "/usr/local/lib/python3.7/site-packages/ipykernel_launcher.py:7: DeprecationWarning: The default dtype for empty Series will be 'object' instead of 'float64' in a future version. Specify a dtype explicitly to silence this warning.\n",
      "  import sys\n"
     ]
    },
    {
     "data": {
      "text/plain": [
       "['MedInc', 'HouseAge', 'Latitude', 'Longitude']"
      ]
     },
     "execution_count": 13,
     "metadata": {},
     "output_type": "execute_result"
    }
   ],
   "source": [
    "forward_selection(X,y)#상관관계가 가장 높은 특징들이 아래와 같이 있다."
   ]
  },
  {
   "cell_type": "markdown",
   "metadata": {},
   "source": [
    "##### 위의 식으로 보아 가장처음에 MedInc 마지막으로 'Longitude'가 뽑힌것을 알 수 있다."
   ]
  },
  {
   "cell_type": "markdown",
   "metadata": {},
   "source": [
    "소득중앙값 집 연식 위도 경도 등이 중요한 4가지 \n",
    "각 0,1,6,7번째 값인것을 알 수 있다."
   ]
  },
  {
   "cell_type": "code",
   "execution_count": 14,
   "metadata": {},
   "outputs": [
    {
     "name": "stdout",
     "output_type": "stream",
     "text": [
      "r2_score: 0.61\n"
     ]
    },
    {
     "data": {
      "image/png": "[encoded data removed]",
      "text/plain": [
       "<Figure size 432x288 with 1 Axes>"
      ]
     },
     "metadata": {
      "needs_background": "light"
     },
     "output_type": "display_data"
    }
   ],
   "source": [
    "from sklearn.metrics import r2_score\n",
    "X_com=np.hstack((california.data[:,0:1],california.data[:,1:2],california.data[:,6:8]))#6번과 7번은 이어져 있으니 6:8로 슬라이싱하였다.\n",
    "y_pred=LinearRegression().fit(X_train,y_train).predict(X_train)\n",
    "print('r2_score: {:.2f}'.format(r2_score(y_train, y_pred)))\n",
    "def adj_r2(n_feature,n_samples,y_train,y_pred):#기본 r2값에 확장한 형태인 adj_r2함수 이다.\n",
    "    return 1-((1-r2_score(y_train,y_pred))*(n_samples-1))/(n_samples-n_feature-1)\n",
    "\n",
    "\n",
    "\n",
    "ans_list=[]#y축을 그릴 리스트(train 값)\n",
    "y_pred=[1,2,3,4]#x축을 그릴 리스트\n",
    "ans_list2=[]#y축을 그릴 리스트(test값)\n",
    "y_pred2=[1,2,3,4]#x축을 그릴 리스트\n",
    "\n",
    "\n",
    "\n",
    "#아래 과정은 특징 1개 일때,특징 2개일때 특징 3개일때, 특징 4개일때를 각자 slicing 하여 진행한 과정이다.\n",
    "\n",
    "y_pred[0]=LinearRegression().fit(X_train[:,0:1],y_train).predict(X_train[:,0:1])\n",
    "ans_list.append(adj_r2(1, 20640,y_train,y_pred[0]))\n",
    "\n",
    "\n",
    "a=np.hstack((X_train[:,0:1],X_train[:,1:2]))\n",
    "y_pred[1]=LinearRegression().fit(a,y_train).predict(a)\n",
    "ans_list.append(adj_r2(2, 20640,y_train,y_pred[1]))\n",
    "\n",
    "b=np.hstack((X_train[:,0:1],X_train[:,1:2],X_train[:,6:7]))\n",
    "y_pred[2]=LinearRegression().fit(b,y_train).predict(b)\n",
    "ans_list.append(adj_r2(3, 20640,y_train,y_pred[2]))\n",
    "\n",
    "c=np.hstack((X_train[:,0:1],X_train[:,1:2],X_train[:,6:7],X_train[:,7:8]))\n",
    "y_pred[3]=LinearRegression().fit(c,y_train).predict(c)\n",
    "ans_list.append(adj_r2(4, 20640,y_train,y_pred[3]))\n",
    "\n",
    "\n",
    "\n",
    "\n",
    "y_pred2[0]=LinearRegression().fit(X_train[:,0:1],y_train).predict(X_test[:,0:1])\n",
    "ans_list2.append(adj_r2(1, 20640,y_test,y_pred2[0]))\n",
    "\n",
    "\n",
    "a=np.hstack((X_train[:,0:1],X_train[:,1:2]))\n",
    "y_pred2[1]=LinearRegression().fit(a,y_train).predict(np.hstack((X_test[:,0:1],X_test[:,1:2])))\n",
    "ans_list2.append(adj_r2(2, 20640,y_test,y_pred2[1]))\n",
    "\n",
    "b=np.hstack((X_train[:,0:1],X_train[:,1:2],X_train[:,6:7]))\n",
    "y_pred2[2]=LinearRegression().fit(b,y_train).predict(np.hstack((X_test[:,0:1],X_test[:,1:2],X_test[:,6:7])))\n",
    "ans_list2.append(adj_r2(3, 20640,y_test,y_pred2[2]))\n",
    "\n",
    "c=np.hstack((X_train[:,0:1],X_train[:,1:2],X_train[:,6:7],X_train[:,7:8]))\n",
    "y_pred2[3]=LinearRegression().fit(c,y_train).predict(np.hstack((X_test[:,0:1],X_test[:,1:2],X_test[:,6:7],X_test[:,7:8])))\n",
    "ans_list2.append(adj_r2(4, 20640,y_test,y_pred2[3]))\n",
    "\n",
    "\n",
    "\n",
    "\n",
    "\n",
    "\n",
    "\n",
    "\n",
    "\n",
    "\n",
    "x=[1,2,3,4]\n",
    "\n",
    "\n",
    "\n",
    "\n",
    "\n",
    "\n",
    "plt.plot(x, ans_list, ls=\"--\", label=\"train\")\n",
    "plt.plot(x, ans_list2, ls=\":\", label=\"test\")\n",
    "plt.xticks(x)\n",
    "plt.legend(loc=2)\n",
    "plt.show()\n",
    "    \n",
    "\n",
    "\n",
    "\n",
    "\n"
   ]
  },
  {
   "cell_type": "markdown",
   "metadata": {},
   "source": [
    "### 3번 문제"
   ]
  },
  {
   "cell_type": "code",
   "execution_count": 15,
   "metadata": {},
   "outputs": [],
   "source": [
    "from sklearn.linear_model import Lasso\n",
    "from sklearn.model_selection import GridSearchCV"
   ]
  },
  {
   "cell_type": "code",
   "execution_count": 16,
   "metadata": {},
   "outputs": [],
   "source": [
    "param_grid={'alpha':[0.001,0.01,0.1,1,10,100]} #최적의 파라미터를 찾기 위해 alpha값을 여러 스펙트럼으로 찾게한다."
   ]
  },
  {
   "cell_type": "code",
   "execution_count": 17,
   "metadata": {},
   "outputs": [],
   "source": [
    "grid_search=GridSearchCV(Lasso(),param_grid,cv=5)# 5-fold cross validation을 실행한다."
   ]
  },
  {
   "cell_type": "code",
   "execution_count": 18,
   "metadata": {},
   "outputs": [
    {
     "data": {
      "text/plain": [
       "{'alpha': 0.001}"
      ]
     },
     "execution_count": 18,
     "metadata": {},
     "output_type": "execute_result"
    }
   ],
   "source": [
    "#최적의 파라미터 찾기\n",
    "grid_search.fit(X_train,y_train)\n",
    "grid_search.best_params_"
   ]
  },
  {
   "cell_type": "code",
   "execution_count": 19,
   "metadata": {},
   "outputs": [
    {
     "name": "stdout",
     "output_type": "stream",
     "text": [
      "r2_score: 0.59\n"
     ]
    }
   ],
   "source": [
    "#최적하이퍼파라미터 탐색후 r^2값 출력\n",
    "y_pred=Lasso(alpha=0.001).fit(X_train,y_train).predict(X_test)\n",
    "print('r2_score: {:.2f}'.format(r2_score(y_test, y_pred)))"
   ]
  }
 ],
 "metadata": {
  "kernelspec": {
   "display_name": "Python 3",
   "language": "python",
   "name": "python3"
  },
  "language_info": {
   "codemirror_mode": {
    "name": "ipython",
    "version": 3
   },
   "file_extension": ".py",
   "mimetype": "text/x-python",
   "name": "python",
   "nbconvert_exporter": "python",
   "pygments_lexer": "ipython3",
   "version": "3.7.7"
  }
 },
 "nbformat": 4,
 "nbformat_minor": 4
}
